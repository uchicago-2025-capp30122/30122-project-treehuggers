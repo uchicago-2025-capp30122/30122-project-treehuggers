{
 "cells": [
  {
   "cell_type": "code",
   "execution_count": 8,
   "metadata": {},
   "outputs": [],
   "source": [
    "import geopandas as gpd\n",
    "import matplotlib.pyplot as plt"
   ]
  },
  {
   "cell_type": "code",
   "execution_count": 5,
   "metadata": {},
   "outputs": [],
   "source": [
    "housing_index = gpd.read_file(\"../data/housing_data_index.geojson\")"
   ]
  },
  {
   "cell_type": "code",
   "execution_count": 6,
   "metadata": {},
   "outputs": [
    {
     "data": {
      "text/html": [
       "<div>\n",
       "<style scoped>\n",
       "    .dataframe tbody tr th:only-of-type {\n",
       "        vertical-align: middle;\n",
       "    }\n",
       "\n",
       "    .dataframe tbody tr th {\n",
       "        vertical-align: top;\n",
       "    }\n",
       "\n",
       "    .dataframe thead th {\n",
       "        text-align: right;\n",
       "    }\n",
       "</style>\n",
       "<table border=\"1\" class=\"dataframe\">\n",
       "  <thead>\n",
       "    <tr style=\"text-align: right;\">\n",
       "      <th></th>\n",
       "      <th>id</th>\n",
       "      <th>park_count</th>\n",
       "      <th>size_index</th>\n",
       "      <th>rating_index</th>\n",
       "      <th>latitude</th>\n",
       "      <th>longitude</th>\n",
       "      <th>geometry</th>\n",
       "    </tr>\n",
       "  </thead>\n",
       "  <tbody>\n",
       "    <tr>\n",
       "      <th>0</th>\n",
       "      <td>1</td>\n",
       "      <td>5</td>\n",
       "      <td>0.115608</td>\n",
       "      <td>0.072597</td>\n",
       "      <td>41.932073</td>\n",
       "      <td>-87.712872</td>\n",
       "      <td>POINT (-87.71287 41.93207)</td>\n",
       "    </tr>\n",
       "    <tr>\n",
       "      <th>1</th>\n",
       "      <td>2</td>\n",
       "      <td>19</td>\n",
       "      <td>58.663842</td>\n",
       "      <td>58.842609</td>\n",
       "      <td>41.869878</td>\n",
       "      <td>-87.624269</td>\n",
       "      <td>POINT (-87.62427 41.86988)</td>\n",
       "    </tr>\n",
       "    <tr>\n",
       "      <th>2</th>\n",
       "      <td>3</td>\n",
       "      <td>8</td>\n",
       "      <td>0.369459</td>\n",
       "      <td>0.199663</td>\n",
       "      <td>41.917643</td>\n",
       "      <td>-87.692170</td>\n",
       "      <td>POINT (-87.69217 41.91764)</td>\n",
       "    </tr>\n",
       "    <tr>\n",
       "      <th>3</th>\n",
       "      <td>4</td>\n",
       "      <td>4</td>\n",
       "      <td>38.676905</td>\n",
       "      <td>38.960615</td>\n",
       "      <td>41.845653</td>\n",
       "      <td>-87.617816</td>\n",
       "      <td>POINT (-87.61782 41.84565)</td>\n",
       "    </tr>\n",
       "    <tr>\n",
       "      <th>4</th>\n",
       "      <td>5</td>\n",
       "      <td>25</td>\n",
       "      <td>2.398492</td>\n",
       "      <td>0.488778</td>\n",
       "      <td>41.861881</td>\n",
       "      <td>-87.657558</td>\n",
       "      <td>POINT (-87.65756 41.86188)</td>\n",
       "    </tr>\n",
       "  </tbody>\n",
       "</table>\n",
       "</div>"
      ],
      "text/plain": [
       "   id  park_count  size_index  rating_index   latitude  longitude  \\\n",
       "0   1           5    0.115608      0.072597  41.932073 -87.712872   \n",
       "1   2          19   58.663842     58.842609  41.869878 -87.624269   \n",
       "2   3           8    0.369459      0.199663  41.917643 -87.692170   \n",
       "3   4           4   38.676905     38.960615  41.845653 -87.617816   \n",
       "4   5          25    2.398492      0.488778  41.861881 -87.657558   \n",
       "\n",
       "                     geometry  \n",
       "0  POINT (-87.71287 41.93207)  \n",
       "1  POINT (-87.62427 41.86988)  \n",
       "2  POINT (-87.69217 41.91764)  \n",
       "3  POINT (-87.61782 41.84565)  \n",
       "4  POINT (-87.65756 41.86188)  "
      ]
     },
     "execution_count": 6,
     "metadata": {},
     "output_type": "execute_result"
    }
   ],
   "source": [
    "housing_index.head()"
   ]
  },
  {
   "cell_type": "code",
   "execution_count": null,
   "metadata": {},
   "outputs": [
    {
     "data": {
      "image/png": "[encoded data removed]",
      "text/plain": [
       "<Figure size 640x480 with 1 Axes>"
      ]
     },
     "metadata": {},
     "output_type": "display_data"
    }
   ],
   "source": [
    "plt.hist(housing_index[\"size_index\"])\n",
    "plt.show()"
   ]
  },
  {
   "cell_type": "code",
   "execution_count": null,
   "metadata": {},
   "outputs": [],
   "source": [
    "above_50_size = housing_index[housing_index[\"size_index\"] > 50]\n",
    "print(above_50_size)"
   ]
  },
  {
   "cell_type": "code",
   "execution_count": 10,
   "metadata": {},
   "outputs": [
    {
     "data": {
      "image/png": "[encoded data removed]",
      "text/plain": [
       "<Figure size 640x480 with 1 Axes>"
      ]
     },
     "metadata": {},
     "output_type": "display_data"
    }
   ],
   "source": [
    "plt.hist(housing_index[\"rating_index\"])\n",
    "plt.show()"
   ]
  }
 ],
 "metadata": {
  "kernelspec": {
   "display_name": ".venv",
   "language": "python",
   "name": "python3"
  },
  "language_info": {
   "codemirror_mode": {
    "name": "ipython",
    "version": 3
   },
   "file_extension": ".py",
   "mimetype": "text/x-python",
   "name": "python",
   "nbconvert_exporter": "python",
   "pygments_lexer": "ipython3",
   "version": "3.13.1"
  }
 },
 "nbformat": 4,
 "nbformat_minor": 2
}
